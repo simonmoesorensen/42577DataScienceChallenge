{
  "nbformat": 4,
  "nbformat_minor": 0,
  "metadata": {
    "colab": {
      "name": "initial.ipynb",
      "provenance": [],
      "collapsed_sections": [],
      "authorship_tag": "ABX9TyOjlzSo0OSxXcRpOEg78rwc",
      "include_colab_link": true
    },
    "kernelspec": {
      "name": "python3",
      "display_name": "Python 3"
    }
  },
  "cells": [
    {
      "cell_type": "markdown",
      "metadata": {
        "id": "view-in-github",
        "colab_type": "text"
      },
      "source": [
        "<a href=\"https://colab.research.google.com/github/simonmoesorensen/42577DataScienceChallenge/blob/main/initial.ipynb\" target=\"_parent\"><img src=\"https://colab.research.google.com/assets/colab-badge.svg\" alt=\"Open In Colab\"/></a>"
      ]
    },
    {
      "cell_type": "markdown",
      "metadata": {
        "id": "4XtSeJZiC7HL"
      },
      "source": [
        "#Data Science project\n",
        "##Sustainability in World Cities\n",
        "\n",
        "The project has 3 components (order is irrelevant)\n",
        "\n",
        "* Prediction challenge\n",
        "* Exploratory component\n",
        "* Report (This notebook)"
      ]
    },
    {
      "cell_type": "markdown",
      "metadata": {
        "id": "FeEcebPtHude"
      },
      "source": [
        "## Introduction and problem statement"
      ]
    },
    {
      "cell_type": "markdown",
      "metadata": {
        "id": "8ljyDyNDHTvf"
      },
      "source": [
        "# Preliminary data wrangling, cleaning and descriptive statistics"
      ]
    },
    {
      "cell_type": "code",
      "metadata": {
        "id": "E-z8woa-Hll8"
      },
      "source": [
        "# Code"
      ],
      "execution_count": null,
      "outputs": []
    },
    {
      "cell_type": "markdown",
      "metadata": {
        "id": "J823dXjKHKDg"
      },
      "source": [
        "# Exploratory component\n",
        "\n",
        "Formulate at least one new research question.\n"
      ]
    },
    {
      "cell_type": "code",
      "metadata": {
        "id": "o6phuWGXHp2g"
      },
      "source": [
        "# Code"
      ],
      "execution_count": 1,
      "outputs": []
    },
    {
      "cell_type": "markdown",
      "metadata": {
        "id": "t90m8Xh_HH31"
      },
      "source": [
        "# Prediction challenge\n",
        "Target: <b>CO2 Emissions per Capita (metric tonnes) for each city</b>\n",
        "(regression)\n",
        "\n",
        "Based on any variable of our choice, <b>except \"Pollution index\"</b>\n",
        "\n",
        "The challenge has two parts, based on how we split into train and test sets.\n",
        "- Part 1: 75/25 split, <b>without shuffle</b>\n",
        "- Part 2: Test on cities in <b> North America and South America </b>\n",
        "\n",
        "<i><u>Development set?</u></i>"
      ]
    },
    {
      "cell_type": "code",
      "metadata": {
        "id": "Ha2dDcIGC9k3"
      },
      "source": [
        "# Code"
      ],
      "execution_count": null,
      "outputs": []
    }
  ]
}